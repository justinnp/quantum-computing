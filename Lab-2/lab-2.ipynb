{
 "cells": [
  {
   "cell_type": "markdown",
   "metadata": {},
   "source": [
    "# Lab-2 Analyzing Quantum Algorithms"
   ]
  },
  {
   "cell_type": "markdown",
   "metadata": {},
   "source": [
    "## Instruction\n",
    "\n",
    "### For each question, you need to complete the associated 'question*.py' file by implementing the functions for that question.\n",
    "\n",
    "### How to Submit\n",
    "\n",
    "#### 1. Submit question1.py, question2.py, question3.py, question4.py, and question5.py to Gradescope Lab-2."
   ]
  },
  {
   "cell_type": "code",
   "execution_count": null,
   "metadata": {},
   "outputs": [],
   "source": []
  },
  {
   "cell_type": "markdown",
   "metadata": {},
   "source": [
    "## Q1. [20 Points] Super Dense Coding\n",
    "\n",
    "## For this question, implement the components of super dense coding in `question1.py` to transmit $n$ bits of classical binary information.\n",
    "\n",
    "## Super Dense Coding involves the following steps\n",
    "### 1. Preparation of qubits by Charlie in `qubit_preparation`.\n",
    "### 2. Distribution of the prepared qubits from Charlie to Alice and Bob. (No implementation needed)\n",
    "### 3. Encoding of first $\\lceil n/2 \\rceil$ qubits according to the classical information by Alice in `qubit_encoding`.\n",
    "### 4. Transmission of qubits from Alice to Bob. (No implementation needed)\n",
    "### 5. Restoration of the classical information by Bob in `qubit_decoding`.\n",
    "\n",
    "## Your implementation should work for binary classical information of length 1 to 16."
   ]
  },
  {
   "cell_type": "code",
   "execution_count": 3,
   "metadata": {},
   "outputs": [],
   "source": [
    "# test your implementation\n",
    "\n",
    "from question1 import *\n",
    "\n",
    "set_of_information = [\"00\",\"01\",\"10\",\"11\"]\n",
    "\n",
    "for info in set_of_information:\n",
    "    len_info = len(info)\n",
    "    # Charlie prepares qubits\n",
    "    prepared_qubits = qubit_preparation(len_info)\n",
    "    # Charlie distributes qubits to Alice and Bob\n",
    "    \"\"\"\n",
    "    no implementation needed\n",
    "    \"\"\"\n",
    "    # Alice encodes the first ceil(n/2) qubits with information\n",
    "    encoded_qubits = qubit_encoding(prepared_qubits=prepared_qubits, classical_information=info)\n",
    "    # You may want to plot your circuit to verify that your gates only act on the first ceil(n/2) qubits\n",
    "    # print(encoded_qubits.draw())\n",
    "    # Alice sends qubits to Bob\n",
    "    \"\"\"\n",
    "    no implementation needed\n",
    "    \"\"\"\n",
    "    # Bob restores the classical information\n",
    "    restored_information = qubit_decoding(encoded_qubits, len_info)\n",
    "    assert restored_information == info\n"
   ]
  },
  {
   "cell_type": "markdown",
   "metadata": {},
   "source": [
    "##  Q2. [20 Points] Deutsch and Deutsch-Jozsa Algorithm\n",
    "\n",
    "## In this question you need to implement the quantum oracles $U_f$ of Deutsch and Deutsch-Jozsa circuits based on the definition of the given functions."
   ]
  },
  {
   "cell_type": "markdown",
   "metadata": {},
   "source": [
    "### Q2A. [10 Points]\n",
    "### Deutch algorithm tests if a 1-bit function ($f: \\{0,1\\} \\to \\{0,1\\}$) is constant or balanced. Implement the following four functions ($f_1, f_2, f_3, f_4$) as oracles of Deutsch circuits in `question2.py`."
   ]
  },
  {
   "cell_type": "code",
   "execution_count": null,
   "metadata": {},
   "outputs": [],
   "source": []
  },
  {
   "cell_type": "markdown",
   "metadata": {},
   "source": [
    "#### Q2A_f1\n",
    "#### $f_1(0) = 0,f_1(1) = 0$\n",
    "#### Implement $f_1$ as an oracle in the `deutsch_f1_oracle` function in `question2.py`."
   ]
  },
  {
   "cell_type": "code",
   "execution_count": null,
   "metadata": {},
   "outputs": [],
   "source": []
  },
  {
   "cell_type": "markdown",
   "metadata": {},
   "source": [
    "#### Q2A_f2\n",
    "#### $f_2(0) = 1,f_2(1) = 0$\n",
    "#### Implement $f_2$ as an oracle in the `deutsch_f2_oracle` function in `question2.py`."
   ]
  },
  {
   "cell_type": "code",
   "execution_count": null,
   "metadata": {},
   "outputs": [],
   "source": []
  },
  {
   "cell_type": "markdown",
   "metadata": {},
   "source": [
    "#### Q2A_f3\n",
    "#### $f_3(0) = 0,f_3(1) = 1$\n",
    "#### Implement $f_3$ as an oracle in the `deutsch_f3_oracle` function in `question2.py`."
   ]
  },
  {
   "cell_type": "code",
   "execution_count": null,
   "metadata": {},
   "outputs": [],
   "source": []
  },
  {
   "cell_type": "markdown",
   "metadata": {},
   "source": [
    "#### Q2A_f4\n",
    "#### $f_4(0) = 1,f_4(1) = 1$\n",
    "#### Implement $f_4$ as an oracle in the `deutsch_f4_oracle` function in `question2.py`."
   ]
  },
  {
   "cell_type": "code",
   "execution_count": null,
   "metadata": {},
   "outputs": [],
   "source": []
  },
  {
   "cell_type": "markdown",
   "metadata": {},
   "source": [
    "\n",
    "### Q2B. [10 Points]\n",
    "### A four-bit function $g(x)$ where $x$ is a 4-bit unsigned integer can be defined as the following:\n",
    "\n",
    "### $g(x) = 0$ if $x$ is even,\n",
    "### $g(x) = 1$ if $x$ is odd.\n",
    "\n",
    "### Implement $g(x)$ as an oracle for Deutsch-Jozsa algorithm in the `deutsch_jozsa_oracle` function in `question2.py`."
   ]
  },
  {
   "cell_type": "code",
   "execution_count": null,
   "metadata": {},
   "outputs": [],
   "source": []
  },
  {
   "cell_type": "markdown",
   "metadata": {},
   "source": [
    "## Q3. [15 Points] Bernstein Vazirani Algorithm\n",
    "\n",
    "## Implement Bernstein Vazirani (BV) algorithm with an oracle function $U_f$ of secrete key `0101010`. Your implementation should not contain any measurments."
   ]
  },
  {
   "cell_type": "markdown",
   "metadata": {},
   "source": [
    "### Q3A. [10 Points]\n",
    "\n",
    "### Implement your BV circuit in the `bv_ideal` function in `question3.py`.\n"
   ]
  },
  {
   "cell_type": "code",
   "execution_count": null,
   "metadata": {},
   "outputs": [],
   "source": []
  },
  {
   "cell_type": "markdown",
   "metadata": {},
   "source": [
    "### Q3B. [5 Points]\n",
    "### On a real quantum computer with physical qubits, we get hardware errors. One type of error is the systematic control error, which can cause the state vector to have an under or over-rotation on the Bloch sphere. We will use U gates to emulate control error in \"H.\" For example, if all the \"H\" gates in BV are replaced by $U(\\frac{\\pi}{2},\\frac{\\pi}{16},\\pi)$, we can emulate a type of control error and study its impact on the fidelity of BV.\n",
    "### Implement your circuit in the `bv_noisy` function in `question3.py` with all $H$ gates substituted by $U(\\frac{\\pi}{2},\\frac{\\pi}{16},\\pi)$ gates."
   ]
  },
  {
   "cell_type": "code",
   "execution_count": null,
   "metadata": {},
   "outputs": [],
   "source": []
  },
  {
   "cell_type": "markdown",
   "metadata": {},
   "source": [
    "## Q4. [20 Points] Simon's Algorithm\n",
    "## Simon's algorithm deals with the period finding problem which enables quantum advantage against classical algorithms towards solving large number factorization problems.\n",
    "\n",
    "<img src=\"./Figures/q3_oracle.png\" style=\"height:300px;\"/>"
   ]
  },
  {
   "cell_type": "markdown",
   "metadata": {},
   "source": [
    "### Q4A. [10 Points]\n",
    "### Implement the Simon's algorithm circuit in `simon` function in `question4.py` based on the given oracle. Your implementation should not contain any measurments."
   ]
  },
  {
   "cell_type": "code",
   "execution_count": null,
   "metadata": {},
   "outputs": [],
   "source": []
  },
  {
   "cell_type": "markdown",
   "metadata": {},
   "source": [
    "### Q4B. [10 Points]\n",
    "### Return the calculated period string in `calculate_period` in `question4.py`.\n",
    "\n",
    "#### Hint: The answer can be hard coded."
   ]
  },
  {
   "cell_type": "code",
   "execution_count": null,
   "metadata": {},
   "outputs": [],
   "source": []
  },
  {
   "cell_type": "markdown",
   "metadata": {},
   "source": [
    "## Q5. Grover's Algorithm [25 Points]\n",
    "\n",
    "## Grover's algorithm can be used to amplify the probability of a target state by a rotation oracle and an inversion oracle. In this question, you need to complete the Grover's circuit using the given oracles, find the target state, and also find the probability of the target state after running Grover's circuit."
   ]
  },
  {
   "cell_type": "markdown",
   "metadata": {},
   "source": [
    "### Q5A. [10 Points]\n",
    "### Implement Grover's algorithm circuit in `grover` function in `question5.py` using the following oracles for phase rotation and inversion around the mean. Your implementation should not contain any measurments.\n",
    "\n",
    "<img src=\"./Figures/q4_rotation.png\" style=\"height:200px;\"/>\n",
    "<img src=\"./Figures/q4_inversion.png\" style=\"height:200px;\"/>\n"
   ]
  },
  {
   "cell_type": "code",
   "execution_count": null,
   "metadata": {},
   "outputs": [],
   "source": []
  },
  {
   "cell_type": "markdown",
   "metadata": {},
   "source": [
    "### Q5B. [5 Points]\n",
    "### Implement the `target_state` function in `question5.py` to return the target state found by the Grover's circuit?"
   ]
  },
  {
   "cell_type": "code",
   "execution_count": null,
   "metadata": {},
   "outputs": [],
   "source": []
  },
  {
   "cell_type": "markdown",
   "metadata": {},
   "source": [
    "### Q5C. [10 Points]\n",
    "### Implement the `post_processing` function in `question5.py` to return the probability of the target state of the given Grover's algorithm circuit of input `n`."
   ]
  },
  {
   "cell_type": "code",
   "execution_count": null,
   "metadata": {},
   "outputs": [],
   "source": []
  }
 ],
 "metadata": {
  "kernelspec": {
   "display_name": "Python 3 (ipykernel)",
   "language": "python",
   "name": "python3"
  },
  "language_info": {
   "codemirror_mode": {
    "name": "ipython",
    "version": 3
   },
   "file_extension": ".py",
   "mimetype": "text/x-python",
   "name": "python",
   "nbconvert_exporter": "python",
   "pygments_lexer": "ipython3",
   "version": "3.11.4"
  },
  "vscode": {
   "interpreter": {
    "hash": "403fdce3d98f1934ea610e455921c6c2c3ee0618b555a370343210efb4fc9b36"
   }
  }
 },
 "nbformat": 4,
 "nbformat_minor": 2
}
