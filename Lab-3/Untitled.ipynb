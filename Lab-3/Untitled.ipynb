{
 "cells": [
  {
   "cell_type": "code",
   "execution_count": 1,
   "id": "9e7b4a95",
   "metadata": {},
   "outputs": [],
   "source": [
    "from qiskit import QuantumCircuit, QuantumRegister, transpile\n",
    "from qiskit_aer.backends.qasm_simulator import QasmSimulator\n",
    "from qiskit.circuit import Gate, ControlledGate\n",
    "from qiskit.circuit.library import CUGate\n",
    "from qiskit.quantum_info import Statevector\n",
    "import math\n",
    "import numpy as np"
   ]
  },
  {
   "cell_type": "code",
   "execution_count": 18,
   "id": "64833795",
   "metadata": {},
   "outputs": [],
   "source": [
    "def q3d_edge_gates():\n",
    "    \"\"\"\n",
    "    Implement the cx gates on each edge according to q3d device topology,\n",
    "    each key denotes a bidirectional edge of the device\n",
    "    Args:\n",
    "        None\n",
    "    Return:\n",
    "        edge_gates: dict[str, qiskit.circuit.Gate]\n",
    "    \"\"\"\n",
    "    edge_gates = {\n",
    "        \"01\": None,\n",
    "        \"12\": None,\n",
    "        \"13\": None,\n",
    "        \"34\": None,\n",
    "    }\n",
    "\n",
    "\n",
    "    edge_gates[\"01\"] = CUGate(2 * math.asin(math.sqrt(0.850)), 0, 0, 0)\n",
    "    edge_gates[\"12\"] = CUGate(2 * math.asin(math.sqrt(0.825)), 0, 0, 0)\n",
    "    edge_gates[\"13\"] = CUGate(2 * math.asin(math.sqrt(0.975)), 0, 0, 0)\n",
    "    edge_gates[\"34\"] = CUGate(2 * math.asin(math.sqrt(0.990)), 0, 0, 0)\n",
    "\n",
    "\n",
    "    return edge_gates"
   ]
  },
  {
   "cell_type": "code",
   "execution_count": 19,
   "id": "86e52836",
   "metadata": {},
   "outputs": [],
   "source": [
    "def q3d_device_qubit_route_mapping():\n",
    "    \"\"\"\n",
    "    The logical qubits (int) to physical qubits (int) mapping for qubit\n",
    "    allocation\n",
    "    Args:\n",
    "        None\n",
    "    Return:\n",
    "        qubit_mapping: dict[int, int]\n",
    "    \"\"\"\n",
    "    qubit_mapping = None\n",
    "\n",
    "    qubit_mapping = {\n",
    "        0: 3,\n",
    "        1: 4,\n",
    "        2: 1,\n",
    "        3: 0,\n",
    "        4: None\n",
    "    }\n",
    "\n",
    "    return qubit_mapping"
   ]
  },
  {
   "cell_type": "code",
   "execution_count": 24,
   "id": "eb135c60",
   "metadata": {},
   "outputs": [],
   "source": [
    "def q3d_device_compatible_physical_circuit():\n",
    "    \"\"\"\n",
    "    Your implementation physical quantum circuit based on the logical circuit\n",
    "    and device topology q3d_device_topology.png\n",
    "    Args:\n",
    "        None\n",
    "    Return:\n",
    "        qc: QuanutmCircuit\n",
    "    \"\"\"\n",
    "    qc = None\n",
    "    qc = QuantumCircuit(5)\n",
    "    edge_gates = q3d_edge_gates()\n",
    "    qubit_mapping = q3d_device_qubit_route_mapping()\n",
    "    \n",
    "    # CNOT 0 -> 1\n",
    "    qc.append(edge_gates[\"34\"], [qubit_mapping[0], qubit_mapping[1]])\n",
    "    # CNOT 0 -> 2\n",
    "    qc.append(edge_gates[\"13\"], [qubit_mapping[0], qubit_mapping[2]])\n",
    "    # SWAP 2 <-> 3\n",
    "    qc.append(edge_gates[\"01\"], [qubit_mapping[2], qubit_mapping[3]])\n",
    "    qc.append(edge_gates[\"01\"], [qubit_mapping[3], qubit_mapping[2]])\n",
    "    qc.append(edge_gates[\"01\"], [qubit_mapping[2], qubit_mapping[3]])\n",
    "    # CNOT 0 -> swapped(3)\n",
    "    qc.append(edge_gates[\"13\"], [qubit_mapping[0], qubit_mapping[2]])\n",
    "\n",
    "    return qc"
   ]
  },
  {
   "cell_type": "code",
   "execution_count": 25,
   "id": "e4b428ac",
   "metadata": {
    "scrolled": true
   },
   "outputs": [
    {
     "name": "stdout",
     "output_type": "stream",
     "text": [
      "                                          ┌─────────────────┐»\n",
      "q_0: ─────────────────────────────────────┤ U(2.3462,0,0,0) ├»\n",
      "                        ┌────────────────┐└────────┬────────┘»\n",
      "q_1: ───────────────────┤ U(2.824,0,0,0) ├─────────■─────────»\n",
      "                        └───────┬────────┘                   »\n",
      "q_2: ───────────────────────────┼────────────────────────────»\n",
      "                                │                            »\n",
      "q_3: ─────────■─────────────────■────────────────────────────»\n",
      "     ┌────────┴────────┐                                     »\n",
      "q_4: ┤ U(2.9413,0,0,0) ├─────────────────────────────────────»\n",
      "     └─────────────────┘                                     »\n",
      "«                        ┌─────────────────┐                  \n",
      "«q_0: ─────────■─────────┤ U(2.3462,0,0,0) ├──────────────────\n",
      "«     ┌────────┴────────┐└────────┬────────┘┌────────────────┐\n",
      "«q_1: ┤ U(2.3462,0,0,0) ├─────────■─────────┤ U(2.824,0,0,0) ├\n",
      "«     └─────────────────┘                   └───────┬────────┘\n",
      "«q_2: ──────────────────────────────────────────────┼─────────\n",
      "«                                                   │         \n",
      "«q_3: ──────────────────────────────────────────────■─────────\n",
      "«                                                             \n",
      "«q_4: ────────────────────────────────────────────────────────\n",
      "«                                                             \n"
     ]
    }
   ],
   "source": [
    "qc = q3d_device_compatible_physical_circuit()\n",
    "print(qc)"
   ]
  },
  {
   "cell_type": "code",
   "execution_count": 22,
   "id": "d9b971ee",
   "metadata": {},
   "outputs": [],
   "source": [
    "def q3d_device_qubit_read_mapping():\n",
    "    \"\"\"\n",
    "    Your physical qubits (int) to logical qubits (int) mapping for information\n",
    "    recovery\n",
    "    Args:\n",
    "        None\n",
    "    Return:\n",
    "        qubit_mapping: dict[int, int]\n",
    "    \"\"\"\n",
    "    qubit_mapping = None\n",
    "\n",
    "    qubit_mapping = {\n",
    "        0: 3,\n",
    "        1: 4,\n",
    "        2: 1,\n",
    "        3: 0,\n",
    "        4: None\n",
    "    }\n",
    "\n",
    "    return qubit_mapping"
   ]
  },
  {
   "cell_type": "code",
   "execution_count": 23,
   "id": "16fcfdef",
   "metadata": {},
   "outputs": [
    {
     "data": {
      "text/plain": [
       "{0: 3, 1: 4, 2: 1, 3: 0, 4: None}"
      ]
     },
     "execution_count": 23,
     "metadata": {},
     "output_type": "execute_result"
    }
   ],
   "source": [
    "q3d_device_qubit_read_mapping()"
   ]
  },
  {
   "cell_type": "code",
   "execution_count": null,
   "id": "9693a843",
   "metadata": {},
   "outputs": [],
   "source": []
  }
 ],
 "metadata": {
  "kernelspec": {
   "display_name": "Python 3 (ipykernel)",
   "language": "python",
   "name": "python3"
  },
  "language_info": {
   "codemirror_mode": {
    "name": "ipython",
    "version": 3
   },
   "file_extension": ".py",
   "mimetype": "text/x-python",
   "name": "python",
   "nbconvert_exporter": "python",
   "pygments_lexer": "ipython3",
   "version": "3.11.4"
  }
 },
 "nbformat": 4,
 "nbformat_minor": 5
}
