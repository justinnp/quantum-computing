{
 "cells": [
  {
   "cell_type": "code",
   "execution_count": 21,
   "id": "beca9ab2",
   "metadata": {},
   "outputs": [],
   "source": [
    "from qiskit import QuantumRegister, ClassicalRegister, QuantumCircuit, transpile\n",
    "from qiskit_aer.backends.qasm_simulator import QasmSimulator\n",
    "import math\n",
    "import glob\n",
    "import os"
   ]
  },
  {
   "cell_type": "markdown",
   "id": "907ffe26",
   "metadata": {},
   "source": [
    "## Utils"
   ]
  },
  {
   "cell_type": "code",
   "execution_count": 22,
   "id": "84f72d0c",
   "metadata": {},
   "outputs": [],
   "source": [
    "def get_benchmark_dict(path):\n",
    "    \"\"\"\n",
    "    Finds and reads benchmark quantum circuits from *.qasm files in the given\n",
    "    path and store them in a dict using *.qasm filenames as keys and\n",
    "    the QuantumCircuit objects as values.\n",
    "    Args:\n",
    "        path: str\n",
    "    Return:\n",
    "        out_dict: dict\n",
    "    \"\"\"\n",
    "    list_qasm = glob.glob(os.path.join(path,'*.qasm'))\n",
    "    out_dict = {}\n",
    "    for qasm_file in list_qasm:\n",
    "        circuit_name = qasm_file.split('.qasm')[0].split('Benchmarks'+os.sep)[1]\n",
    "        circuit = QuantumCircuit.from_qasm_file(qasm_file)\n",
    "        circuit.name = circuit_name\n",
    "        out_dict.update({circuit_name:circuit})\n",
    "    \n",
    "    return out_dict"
   ]
  },
  {
   "cell_type": "code",
   "execution_count": 23,
   "id": "3ec1af34",
   "metadata": {},
   "outputs": [],
   "source": [
    "workload_list = get_benchmark_dict(\"SWAP_Benchmarks\")"
   ]
  },
  {
   "cell_type": "markdown",
   "id": "bc6f8511",
   "metadata": {},
   "source": [
    "## Question 1A"
   ]
  },
  {
   "cell_type": "code",
   "execution_count": 26,
   "id": "4da35e1f",
   "metadata": {},
   "outputs": [],
   "source": [
    "q1a_basis_gates = ['cx', 'u']"
   ]
  },
  {
   "cell_type": "code",
   "execution_count": 32,
   "id": "68566de8",
   "metadata": {},
   "outputs": [],
   "source": [
    "output_dict_1a = {}\n",
    "for benchmark_circuit in workload_list.keys():\n",
    "    circuit = workload_list[benchmark_circuit]\n",
    "    transpiled_1a = transpile(circuit, basis_gates=q1a_basis_gates)\n",
    "    output_dict_1a[benchmark_circuit] = transpiled_1a"
   ]
  },
  {
   "cell_type": "markdown",
   "id": "69b4fc1d",
   "metadata": {},
   "source": [
    "## Question 1B"
   ]
  },
  {
   "cell_type": "code",
   "execution_count": 33,
   "id": "d506b624",
   "metadata": {},
   "outputs": [],
   "source": [
    "q1b_basis_gates = ['cx','rx','ry','rz']"
   ]
  },
  {
   "cell_type": "code",
   "execution_count": 34,
   "id": "38d4c1dd",
   "metadata": {},
   "outputs": [],
   "source": [
    "output_dict_1b = {}\n",
    "for benchmark_circuit in workload_list.keys():\n",
    "    circuit = workload_list[benchmark_circuit]\n",
    "    transpiled = transpile(circuit, basis_gates=q1b_basis_gates)\n",
    "    output_dict_1b[benchmark_circuit] = transpiled"
   ]
  },
  {
   "cell_type": "markdown",
   "id": "c18f922a",
   "metadata": {},
   "source": [
    "## Question 2A"
   ]
  },
  {
   "cell_type": "code",
   "execution_count": null,
   "id": "885a98c9",
   "metadata": {},
   "outputs": [],
   "source": []
  }
 ],
 "metadata": {
  "kernelspec": {
   "display_name": "Python 3 (ipykernel)",
   "language": "python",
   "name": "python3"
  },
  "language_info": {
   "codemirror_mode": {
    "name": "ipython",
    "version": 3
   },
   "file_extension": ".py",
   "mimetype": "text/x-python",
   "name": "python",
   "nbconvert_exporter": "python",
   "pygments_lexer": "ipython3",
   "version": "3.11.4"
  }
 },
 "nbformat": 4,
 "nbformat_minor": 5
}
