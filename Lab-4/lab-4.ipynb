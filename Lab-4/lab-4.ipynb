{
 "cells": [
  {
   "cell_type": "markdown",
   "metadata": {},
   "source": [
    "# Lab-4 QEC and QAOA"
   ]
  },
  {
   "cell_type": "markdown",
   "metadata": {},
   "source": [
    "## Instruction\n",
    "\n",
    "### For each question, you need to complete the associated 'question*.py' file by implementing the functions for that question.\n",
    "\n",
    "### How to Submit\n",
    "\n",
    "#### 1. Submit question1.py, question2.py, and question3.py to Gradescope Lab-4."
   ]
  },
  {
   "cell_type": "markdown",
   "metadata": {},
   "source": [
    "## Q1. Bit-flip Quantum Error Correction [30 pts]\n",
    "\n",
    "### The goal of this question is to better understand quantum error correction. In `question1.py`, you need to complete the functions to implement bit-flip QEC algorithm. For a given 3-qubit input\n",
    "### $$\\ket{\\psi} = \\ket{q_2}\\otimes\\ket{q_1}\\otimes\\ket{q_0}= \\ket{0}\\otimes\\ket{0}\\otimes(\\alpha\\ket{0}+\\beta\\ket{1}).$$\n",
    "### For simplicity we restrict $\\alpha$ and $\\beta$ to be real numbers, and the qubits in $\\ket{\\psi}$ are already in qiskit default little-endian ordering. You need to create:\n",
    "###     - The encoder circuit to encode the qubits.\n",
    "###     - The decoder circuit to decode the circuit with error and recover $q_0$, $q_1$, and $q_2$ to their original states.\n",
    "### You must return `QuantumCircuit` objects for both encoder and decoder functions, and you are not allowed to measure any one of $q_0$, $q_1$, and $q_2$.\n",
    "\n",
    "### Your implementation will be tested in the following way:\n",
    "```\n",
    "qc.initialize(psi)\n",
    "qc = qc.compose(encoder)\n",
    "inject_error(qc)\n",
    "qc = qc.compose(decoder)\n",
    "```"
   ]
  },
  {
   "cell_type": "code",
   "execution_count": null,
   "metadata": {},
   "outputs": [],
   "source": []
  },
  {
   "cell_type": "markdown",
   "metadata": {},
   "source": [
    "### Q1A. [15 Points] ONE Bit-Flip Error. To test your implementation, we will\n",
    "- #### 1. Apply your encoder `encoder()` to a randomly generated $\\ket{\\psi}$ based on the equation above.\n",
    "- #### 2. Inject **one** bit-flip error: an $X$ gate at random on $q_0$, $q_1$, and $q_2$.\n",
    "- #### 3. Apply your decoder `decoder1()`.\n",
    "- #### 4. Measure $q_0$, $q_1$, and $q_2$.\n",
    "\n",
    "### Your score is based on the number of tests you passed for 10 random initial states."
   ]
  },
  {
   "cell_type": "markdown",
   "metadata": {},
   "source": [
    "### Q1B. [15 Points] TWO Bit-Flip Errors. To test your implementation, we will\n",
    "- #### 1. Apply your encoder `encoder()` to a randomly generated $\\ket{\\psi}$ based on the equation above.\n",
    "- #### 2. Inject **two** bit-flip errors: two $X$ gates at random on $q_0$, $q_1$, and $q_2$.\n",
    "- #### 3. Apply your decoder `decoder2()`.\n",
    "- #### 4. Measure $q_0$, $q_1$, and $q_2$.\n",
    "\n",
    "### Your score is based on the number of tests you passed for 10 random initial states."
   ]
  },
  {
   "cell_type": "code",
   "execution_count": null,
   "metadata": {},
   "outputs": [],
   "source": []
  },
  {
   "cell_type": "markdown",
   "metadata": {},
   "source": [
    "## Q2. Phase-flip Quantum Error Correction [30 pts]\n",
    "\n",
    "### The goal of this question is to better understand quantum error correction. In `question2.py`, you need to complete the functions to implement phase-flip QEC algorithm. For a given 3-qubit input\n",
    "### $$\\ket{\\psi} = \\ket{q_2}\\otimes\\ket{q_1}\\otimes\\ket{q_0}= \\ket{0}\\otimes\\ket{0}\\otimes(\\alpha\\ket{0}+\\beta\\ket{1}).$$\n",
    "### For simplicity we restrict $\\alpha$ and $\\beta$ to be real numbers, and the qubits in $\\ket{\\psi}$ are already in qiskit default little-endian ordering. You need to create:\n",
    "###     - The encoder circuit to encode the qubits.\n",
    "###     - The decoder circuit to decode the circuit with error and recover $q_0$, $q_1$, and $q_2$ to their original states.\n",
    "### You must return `QuantumCircuit` objects for both encoder and decoder functions, and you are not allowed to measure any one of $q_0$, $q_1$, and $q_2$.\n",
    "\n",
    "### Your implementation will be tested in the following way:\n",
    "```\n",
    "qc.initialize(psi)\n",
    "qc = qc.compose(encoder)\n",
    "inject_error(qc)\n",
    "qc = qc.compose(decoder)\n",
    "```"
   ]
  },
  {
   "cell_type": "code",
   "execution_count": null,
   "metadata": {},
   "outputs": [],
   "source": []
  },
  {
   "cell_type": "markdown",
   "metadata": {},
   "source": [
    "### Q2A. [15 Points] ONE Phase-Flip Error. To test your implementation, we will\n",
    "- #### 1. Apply your encoder `encoder()` to a randomly generated $\\ket{\\psi}$ based on the equation above.\n",
    "- #### 2. Inject **one** bit-flip error: an $Z$ gate at random on $q_0$, $q_1$, and $q_2$.\n",
    "- #### 3. Apply your decoder `decoder1()`.\n",
    "- #### 4. Measure $q_0$, $q_1$, and $q_2$.\n",
    "\n",
    "### Your score is based on the number of tests you passed for 10 random initial states."
   ]
  },
  {
   "cell_type": "code",
   "execution_count": null,
   "metadata": {},
   "outputs": [],
   "source": []
  },
  {
   "cell_type": "markdown",
   "metadata": {},
   "source": [
    "### Q2B. [15 Points] TWO Phase-Flip Errors. To test your implementation, we will\n",
    "- #### 1. Apply your encoder `encoder()` to a randomly generated $\\ket{\\psi}$ based on the equation above.\n",
    "- #### 2. Inject **two** phase-flip errors: two $Z$ gates at random on $q_0$, $q_1$, and $q_2$.\n",
    "- #### 3. Apply your decoder `decoder2()`.\n",
    "- #### 4. Measure $q_0$, $q_1$, and $q_2$.\n",
    "\n",
    "### Your score is based on the number of tests you passed for 10 random initial states."
   ]
  },
  {
   "cell_type": "code",
   "execution_count": null,
   "metadata": {},
   "outputs": [],
   "source": []
  },
  {
   "cell_type": "markdown",
   "metadata": {},
   "source": [
    "## Q2. QAOA [40 Points]\n",
    "### The goal of this question is to better understand QAOA and see how it is used to solve the max cut problem. You need to complete the functions in the `QAOASolver` class in `question3.py`.\n",
    "###     - All input graphs are simple, undirected, and connected.\n",
    "###     - There is no need to implement the `optimize_parameters` function, since we will just return the maximum cut value we find in `find_maxcut`, however you are encouraged to think how this can be done.\n",
    "###     - The string of cut/partition of nodes in `self.qaoa_counts` should be treated as little-endian, so for a graph of edges [(0,1),(0,2),(0,3)], the cut `\"0001\"` has value `3` while the cut `\"1000\"` has value `1`. See the example below.\n",
    "\n",
    "#### \"0001\", Cut=3\n",
    "<img src=\"./Figures/0001.png\" alt=\"0001, Cut=3\" height=200/>\n",
    "\n",
    "#### \"1000\", Cut=1\n",
    "<img src=\"./figures/1000.png\" alt=\"1000, Cut=1\" height=200/>"
   ]
  },
  {
   "cell_type": "code",
   "execution_count": null,
   "metadata": {},
   "outputs": [],
   "source": []
  }
 ],
 "metadata": {
  "kernelspec": {
   "display_name": "Python 3 (ipykernel)",
   "language": "python",
   "name": "python3"
  },
  "language_info": {
   "codemirror_mode": {
    "name": "ipython",
    "version": 3
   },
   "file_extension": ".py",
   "mimetype": "text/x-python",
   "name": "python",
   "nbconvert_exporter": "python",
   "pygments_lexer": "ipython3",
   "version": "3.11.4"
  }
 },
 "nbformat": 4,
 "nbformat_minor": 2
}
