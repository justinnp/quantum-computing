{
 "cells": [
  {
   "attachments": {},
   "cell_type": "markdown",
   "metadata": {},
   "source": [
    "# Lab-1 Quantum Circuits Basics"
   ]
  },
  {
   "attachments": {},
   "cell_type": "markdown",
   "metadata": {},
   "source": [
    "## Instruction\n",
    "\n",
    "### For each question, you need to complete the associated 'question*.py' file by implementing the required functions for that question.\n",
    "\n",
    "### How to Submission\n",
    "\n",
    "#### 1. Submit question1.py, question2.py, question3.py, and question4.py to Gradescope Lab-1.\n"
   ]
  },
  {
   "cell_type": "code",
   "execution_count": null,
   "metadata": {},
   "outputs": [],
   "source": []
  },
  {
   "attachments": {},
   "cell_type": "markdown",
   "metadata": {},
   "source": [
    "## Q1. [15 Points]\n",
    "## In this question you need to construct the exact quantum circutis for each part according to the figures provided.\n",
    "## For each part, follow the instructions and return a QuantumCircuit object.\n",
    "## You may want to refer to https://docs.quantum.ibm.com/build/circuit-construction to learn how to build quantum circuits."
   ]
  },
  {
   "cell_type": "code",
   "execution_count": null,
   "metadata": {},
   "outputs": [],
   "source": []
  },
  {
   "cell_type": "markdown",
   "metadata": {},
   "source": [
    "### Q1A. [5 Points]\n",
    "\n",
    "<img src=\"./Figures/Q1A.png\"/>"
   ]
  },
  {
   "cell_type": "code",
   "execution_count": null,
   "metadata": {},
   "outputs": [],
   "source": []
  },
  {
   "attachments": {},
   "cell_type": "markdown",
   "metadata": {},
   "source": [
    "### Q1B. [5 Points]\n",
    "\n",
    "<img src=\"./Figures/Q1B.png\" />"
   ]
  },
  {
   "cell_type": "code",
   "execution_count": null,
   "metadata": {},
   "outputs": [],
   "source": []
  },
  {
   "cell_type": "markdown",
   "metadata": {},
   "source": [
    "### Q1C. [5 Points]\n",
    "\n",
    "<img src=\"./Figures/Q1C.png\">\n",
    "\n",
    "Hint:\n",
    "-   https://docs.quantum.ibm.com/api/qiskit/qiskit.circuit.library.CUGate\n",
    "-   https://docs.quantum.ibm.com/api/qiskit/qiskit.circuit.library.SwapGate"
   ]
  },
  {
   "cell_type": "code",
   "execution_count": null,
   "metadata": {},
   "outputs": [],
   "source": []
  },
  {
   "attachments": {},
   "cell_type": "markdown",
   "metadata": {},
   "source": [
    "## Q2. [15 points]\n",
    "## Qiskit quantum circuits can be run on either real quantum computers, or simulators.\n",
    "## For example, the QasmSimulator:\n",
    "-    `simulator = QasmSimulator()`\n",
    "\n",
    "## In this question, you need to follow the instructions and run the circuits you have created in question 1,\n",
    "## and return the Counts (https://docs.quantum.ibm.com/api/qiskit/qiskit.result.Counts) of the simulation.\n",
    "\n",
    "## For measuring the qubits you can use measure_all() or measure(qreg,creg) methods.\n",
    "-    https://docs.quantum.ibm.com/api/qiskit/qiskit.circuit.QuantumCircuit#measure\n",
    "-    https://docs.quantum.ibm.com/api/qiskit/qiskit.circuit.QuantumCircuit#measure_all\n",
    "\n",
    "## An example has been provided to you for reference in q2_example."
   ]
  },
  {
   "cell_type": "code",
   "execution_count": null,
   "metadata": {},
   "outputs": [],
   "source": []
  },
  {
   "cell_type": "markdown",
   "metadata": {},
   "source": [
    "### Q2A. [5 Points]\n",
    "\n",
    "<img src=\"./Figures/Q1A.png\"/>\n",
    "\n",
    "### Instructions:\n",
    "- Use the quantum circuit defined in q1a\n",
    "- Measure all qubits using measure_all()\n",
    "- Compiled the circuit using QasmSimulator()\n",
    "- Run the compiled circuit on the simulator with `65536` shots\n",
    "- Return the qiskit.result.Counts"
   ]
  },
  {
   "cell_type": "code",
   "execution_count": null,
   "metadata": {},
   "outputs": [],
   "source": []
  },
  {
   "cell_type": "markdown",
   "metadata": {},
   "source": [
    "### Q2B. [5 Points]\n",
    "\n",
    "<img src=\"./Figures/Q1B.png\"/>\n",
    "\n",
    "### Instructions:\n",
    "- Use the quantum circuit defined in q1b\n",
    "- Measure the first three qubits using measure(qregs, cregs)\n",
    "- Compiled the circuit using QasmSimulator()\n",
    "- Run the compiled circuit on the simulator with `65536` shots\n",
    "- Return the qiskit.result.Counts"
   ]
  },
  {
   "cell_type": "code",
   "execution_count": null,
   "metadata": {},
   "outputs": [],
   "source": []
  },
  {
   "cell_type": "markdown",
   "metadata": {},
   "source": [
    "### Q2C. [5 Points]\n",
    "\n",
    "<img src=\"./Figures/Q1C.png\"/>\n",
    "\n",
    "### Instructions:\n",
    "- Use the quantum circuit defined in q1c\n",
    "- Measure the last three qubits using measure(qregs, cregs)\n",
    "- Compiled the circuit using QasmSimulator()\n",
    "- Run the compiled circuit on the simulator with `65536` shots\n",
    "- Return the qiskit.result.Counts"
   ]
  },
  {
   "cell_type": "code",
   "execution_count": null,
   "metadata": {},
   "outputs": [],
   "source": []
  },
  {
   "attachments": {},
   "cell_type": "markdown",
   "metadata": {},
   "source": [
    "## Q3. [20 points]\n",
    "## In this question, you need to design quantum circuits to generate the given quantum states in Dirac's notations.\n",
    "## For each part, return a QuantumCircuit object that corresponds to the given state $\\ket{\\psi}$.\n",
    "## The Dirac's notations should be understood in Qiskit little-endian ordering.\n",
    "## You may not use the `initialize` instruction.\n",
    "## You can only use the following gates: `h, x, y, z, s, t, cx, ccx, u, cu, rx, ry, rz`"
   ]
  },
  {
   "cell_type": "markdown",
   "metadata": {},
   "source": [
    "### Q3A. [5 Points]\n",
    "\n",
    "$$\\ket{\\psi}= \\frac{1}{2}\\ket{00} + \\frac{1}{2}\\ket{01} + \\frac{1}{2}\\ket{10} + \\frac{1}{2}\\ket{11}$$"
   ]
  },
  {
   "cell_type": "code",
   "execution_count": null,
   "metadata": {},
   "outputs": [],
   "source": []
  },
  {
   "cell_type": "markdown",
   "metadata": {},
   "source": [
    "### Q3B. [5 Points]\n",
    "\n",
    "$$\\ket{\\psi}= \\frac{1}{2}\\ket{010} + \\frac{\\sqrt{3}}{2}\\ket{101}$$"
   ]
  },
  {
   "cell_type": "code",
   "execution_count": null,
   "metadata": {},
   "outputs": [],
   "source": []
  },
  {
   "cell_type": "markdown",
   "metadata": {},
   "source": [
    "### Q3C. [5 Points]\n",
    "\n",
    "$$\\ket{\\psi}= \\frac{1}{\\sqrt{2}}\\ket{01} - \\frac{1}{\\sqrt{2}}\\ket{10}$$"
   ]
  },
  {
   "cell_type": "code",
   "execution_count": null,
   "metadata": {},
   "outputs": [],
   "source": []
  },
  {
   "cell_type": "markdown",
   "metadata": {},
   "source": [
    "### Q3D. [5 Points]\n",
    "\n",
    "$$\\ket{\\psi}= \\frac{1}{2}\\ket{0001} + \\frac{i}{2}\\ket{0010} - \\frac{1}{2}\\ket{0100} - \\frac{i}{2}\\ket{1000}$$"
   ]
  },
  {
   "cell_type": "code",
   "execution_count": null,
   "metadata": {},
   "outputs": [],
   "source": []
  },
  {
   "cell_type": "markdown",
   "metadata": {},
   "source": [
    "## Q4. [50 Points]\n",
    "## In this question, you need to implement the quantum version of fundamental calculation modules of classical computers.\n",
    "## The `encoder` and `decoder` are provided and will be used for Gradescope tests\n",
    "-   ## The `encoder` converts the two classical inputs to a quantum circuit.\n",
    "-   ## The `decoder` converts a quantum circuit to a classical output by measuring the circuit exactly once, so you circuit should be deterministic.\n",
    "## Your implementation can be tested using the provided `test_your_implementation` function."
   ]
  },
  {
   "cell_type": "code",
   "execution_count": null,
   "metadata": {},
   "outputs": [],
   "source": [
    "from question4 import *"
   ]
  },
  {
   "cell_type": "code",
   "execution_count": null,
   "metadata": {},
   "outputs": [],
   "source": [
    "# 1 == test_your_implementation(1, 2, 4)\n",
    "# 2 == test_your_implementation(x=1, y=1, n=4, quantum_adder())\n",
    "# -1 == test_your_implementation(-2, 1, 4, quantum_adder(), encoder_signed, decoder_signed)"
   ]
  },
  {
   "cell_type": "markdown",
   "metadata": {},
   "source": [
    "### Q4A. [10 Points]\n",
    "### Quantum AND. Implement a quantum circuit to perform bitwise AND calculation for two 1-bit binary inputs in `quantum_and` in `question4.py`."
   ]
  },
  {
   "cell_type": "code",
   "execution_count": null,
   "metadata": {},
   "outputs": [],
   "source": []
  },
  {
   "cell_type": "markdown",
   "metadata": {},
   "source": [
    "### Q4B. [10 Points]\n",
    "### Quantum OR. Implement a quantum circuit to perform bitwise OR calculation for two 1-bit binary inputs in `quantum_or` in `question4.py`."
   ]
  },
  {
   "cell_type": "code",
   "execution_count": null,
   "metadata": {},
   "outputs": [],
   "source": []
  },
  {
   "cell_type": "markdown",
   "metadata": {},
   "source": [
    "### Q4C. [10 Points]\n",
    "### Quantum XOR. Implement a quantum circuit to perform bitwise XOR calculation for two 1-bit binary inputs in `quantum_xor` in `question4.py`."
   ]
  },
  {
   "cell_type": "code",
   "execution_count": null,
   "metadata": {},
   "outputs": [],
   "source": []
  },
  {
   "cell_type": "markdown",
   "metadata": {},
   "source": [
    "### Q4D. [15 Points]\n",
    "### Quantum Adder. Implement a quantum circuit in `quantum_adder` to add two 4-bit unsigned integers and outputs one 4-bit unsigned integer in `question4.py`."
   ]
  },
  {
   "cell_type": "code",
   "execution_count": null,
   "metadata": {},
   "outputs": [],
   "source": []
  },
  {
   "cell_type": "markdown",
   "metadata": {},
   "source": [
    "### Q4E. [5 Points]\n",
    "### Complete the `encoder_signed` function and `decoder_signed` function in `question4.py` so that they work with negative input integers."
   ]
  },
  {
   "cell_type": "code",
   "execution_count": null,
   "metadata": {},
   "outputs": [],
   "source": []
  }
 ],
 "metadata": {
  "kernelspec": {
   "display_name": "Python 3 (ipykernel)",
   "language": "python",
   "name": "python3"
  },
  "language_info": {
   "codemirror_mode": {
    "name": "ipython",
    "version": 3
   },
   "file_extension": ".py",
   "mimetype": "text/x-python",
   "name": "python",
   "nbconvert_exporter": "python",
   "pygments_lexer": "ipython3",
   "version": "3.11.7"
  }
 },
 "nbformat": 4,
 "nbformat_minor": 4
}
